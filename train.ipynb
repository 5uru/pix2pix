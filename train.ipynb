{
 "cells": [
  {
   "cell_type": "code",
   "id": "initial_id",
   "metadata": {
    "collapsed": true,
    "ExecuteTime": {
     "end_time": "2025-01-15T15:29:57.912733Z",
     "start_time": "2025-01-15T15:29:57.363743Z"
    }
   },
   "source": [
    "import jax\n",
    "import jax.numpy as jnp\n",
    "from flax import linen as nn"
   ],
   "outputs": [],
   "execution_count": 1
  },
  {
   "metadata": {
    "ExecuteTime": {
     "end_time": "2025-01-15T15:33:36.677282Z",
     "start_time": "2025-01-15T15:33:30.667002Z"
    }
   },
   "cell_type": "code",
   "source": [
    "\n",
    "import torchvision.transforms as transforms\n",
    "\n",
    "from torch.utils.data import TensorDataset, ConcatDataset, random_split, DataLoader, Dataset\n",
    "\n",
    "import numpy as np\n",
    "import matplotlib.pyplot as plt"
   ],
   "id": "8bb5923a3f8f9c2b",
   "outputs": [],
   "execution_count": 2
  },
  {
   "metadata": {
    "ExecuteTime": {
     "end_time": "2025-01-15T15:33:47.872706Z",
     "start_time": "2025-01-15T15:33:47.687339Z"
    }
   },
   "cell_type": "code",
   "source": "x = jnp.ones(1)",
   "id": "758daac816570d59",
   "outputs": [],
   "execution_count": 3
  },
  {
   "metadata": {
    "ExecuteTime": {
     "end_time": "2025-01-15T15:41:55.651400Z",
     "start_time": "2025-01-15T15:41:55.647058Z"
    }
   },
   "cell_type": "code",
   "source": [
    "class Generator(nn.Module):\n",
    "    \"\"\"Generator network.\"\"\"\n",
    "    @nn.compact\n",
    "    def __call__(self, x):\n",
    "        x = nn.Dense(256)(x)\n",
    "        x = nn.relu(x)\n",
    "\n",
    "        x = nn.Dense(784)(x)\n",
    "        x = nn.tanh(x)\n",
    "\n",
    "        g_out_mat = jnp.zeros((1, 28, 28))\n",
    "        m = 0\n",
    "        n = 0\n",
    "        for i in range(len(x)):\n",
    "            if i % 28 == 0 and i != 0:\n",
    "                m += 1\n",
    "                n = 0\n",
    "            g_out_mat = g_out_mat.at[0, m, n].set(x[i])\n",
    "            n += 1\n",
    "        return g_out_mat"
   ],
   "id": "80b6a214ff9adbbf",
   "outputs": [],
   "execution_count": 15
  },
  {
   "metadata": {
    "ExecuteTime": {
     "end_time": "2025-01-15T15:46:18.865917Z",
     "start_time": "2025-01-15T15:46:18.640356Z"
    }
   },
   "cell_type": "code",
   "source": [
    "generator = Generator()\n",
    "params = generator.init(jax.random.PRNGKey(2), x)"
   ],
   "id": "ef381dd58433e7e7",
   "outputs": [],
   "execution_count": 31
  },
  {
   "metadata": {
    "ExecuteTime": {
     "end_time": "2025-01-15T15:46:19.507032Z",
     "start_time": "2025-01-15T15:46:19.295043Z"
    }
   },
   "cell_type": "code",
   "source": "generator.apply(params, x)",
   "id": "13caa0b88ffd31a2",
   "outputs": [
    {
     "data": {
      "text/plain": [
       "Array([[[-1.25952689e-02, -4.87354368e-01, -3.46462160e-01,\n",
       "         -8.91848505e-01,  7.24832892e-01, -9.25186336e-01,\n",
       "          6.05974793e-01, -8.02427903e-02,  1.49672121e-01,\n",
       "         -6.20351613e-01,  7.98926234e-01, -4.22841132e-01,\n",
       "          5.91002405e-01,  5.51098406e-01,  3.64718467e-01,\n",
       "          1.70733839e-01, -1.15463920e-01,  7.34263420e-01,\n",
       "          3.48181993e-01, -6.72973916e-02,  3.71261865e-01,\n",
       "          5.67916930e-01, -9.74903703e-01,  7.99817264e-01,\n",
       "          2.03636080e-01,  8.10456753e-01, -2.44973544e-02,\n",
       "          2.44187877e-01],\n",
       "        [-7.36517489e-01, -4.36737418e-01,  3.37877184e-01,\n",
       "         -4.36896503e-01,  1.40226811e-01,  3.90387475e-01,\n",
       "          1.54113829e-01,  2.97347426e-01,  3.53680886e-02,\n",
       "          8.30385625e-01,  2.06461817e-01,  1.11221775e-01,\n",
       "         -6.25118613e-01, -7.39962161e-02, -5.71197510e-01,\n",
       "         -7.78341413e-01,  6.04701638e-01, -5.74018657e-01,\n",
       "          6.16907835e-01, -7.07194090e-01, -2.36193195e-01,\n",
       "          3.20473872e-02, -4.21837956e-01, -4.07710522e-01,\n",
       "          8.40583980e-01,  2.90773064e-01,  4.12163615e-01,\n",
       "         -2.05292225e-01],\n",
       "        [ 6.23515546e-01, -7.55352676e-01,  7.31061816e-01,\n",
       "         -8.43832195e-01, -6.19364418e-02, -4.78056401e-01,\n",
       "          8.30911040e-01,  9.93290544e-03,  7.11908340e-01,\n",
       "         -2.18633302e-02, -7.11140513e-01,  8.76427889e-01,\n",
       "          1.18415214e-01, -1.21395521e-01, -1.36288166e-01,\n",
       "         -5.00038326e-01,  5.21209180e-01,  6.10473268e-02,\n",
       "         -1.55401036e-01, -7.71771550e-01,  9.71706510e-02,\n",
       "          4.61578250e-01, -1.46336138e-01, -6.50614500e-01,\n",
       "          4.73589063e-01, -6.78310394e-01, -2.31478557e-01,\n",
       "         -1.38012365e-01],\n",
       "        [-8.98170471e-01, -8.28631520e-01,  2.14676112e-01,\n",
       "         -5.79050660e-01,  5.13024032e-01, -5.00495911e-01,\n",
       "          3.41085285e-01, -4.71986532e-01, -4.72604573e-01,\n",
       "         -6.80062234e-01,  3.23204756e-01, -2.03051373e-01,\n",
       "          7.99455285e-01, -4.04769778e-01, -3.60876173e-01,\n",
       "          2.24266127e-01, -1.37444392e-01, -3.29730302e-01,\n",
       "         -4.35742170e-01,  7.62213290e-01,  5.26834369e-01,\n",
       "          6.08683228e-01,  7.92435527e-01,  4.11507010e-01,\n",
       "         -4.52175260e-01,  1.73474893e-01,  8.78438056e-02,\n",
       "          7.35457718e-01],\n",
       "        [ 5.62114239e-01, -8.50176290e-02, -7.51328826e-01,\n",
       "          9.12393689e-01, -4.87300381e-02,  2.54475147e-01,\n",
       "         -1.76128417e-01,  4.94859010e-01, -5.17131150e-01,\n",
       "          6.32792473e-01,  2.16659024e-01,  2.25653514e-01,\n",
       "          4.31026101e-01,  6.78624570e-01, -4.94207174e-01,\n",
       "          5.97199619e-01,  6.79126918e-01, -3.94245863e-01,\n",
       "         -4.92734641e-01, -3.29261750e-01,  5.47814965e-01,\n",
       "         -4.75581110e-01,  2.90480256e-01, -1.85329974e-01,\n",
       "         -4.29824144e-01,  3.21118534e-01, -3.12088951e-02,\n",
       "         -5.99048316e-01],\n",
       "        [ 7.26102948e-01,  7.69678712e-01, -3.67366225e-01,\n",
       "          5.57224095e-01,  6.79531395e-01, -4.14990604e-01,\n",
       "          3.90699029e-01, -3.40285450e-01, -6.55102372e-01,\n",
       "          1.57674924e-01,  6.33577704e-01, -7.03894317e-01,\n",
       "         -4.68722314e-01, -7.94515014e-02, -6.91051364e-01,\n",
       "          3.44268143e-01, -6.08772457e-01, -6.77082121e-01,\n",
       "          6.39396131e-01, -3.79004925e-01,  4.94132966e-01,\n",
       "         -6.56218350e-01,  2.54184991e-01,  6.94090128e-01,\n",
       "         -6.64662898e-01,  4.87371713e-01,  4.92522746e-01,\n",
       "         -2.62490571e-01],\n",
       "        [ 6.01886272e-01, -1.38537735e-01, -6.61068380e-01,\n",
       "          2.84485251e-01,  6.96447790e-01, -1.62657797e-02,\n",
       "         -2.34907746e-01, -4.70577657e-01,  4.90737647e-01,\n",
       "         -9.44350600e-01, -4.49679822e-01, -3.42343867e-01,\n",
       "          2.42308602e-01,  5.24305999e-01, -7.78096318e-01,\n",
       "         -7.81797647e-01,  5.90212643e-01, -4.23084885e-01,\n",
       "          6.59363344e-02, -5.64473212e-01,  2.07471609e-01,\n",
       "         -9.87335742e-01,  3.26612264e-01,  5.61379433e-01,\n",
       "         -2.05366164e-02, -1.12273633e-01,  9.28765416e-01,\n",
       "          8.50131452e-01],\n",
       "        [-6.02854133e-01, -7.31311679e-01, -8.09014201e-01,\n",
       "          1.60939708e-01, -5.02178192e-01, -3.52622390e-01,\n",
       "          4.49909329e-01,  5.57528734e-01, -9.61510912e-02,\n",
       "         -4.53946561e-01,  6.45627499e-01,  4.13985223e-01,\n",
       "          1.68557525e-01,  4.81332481e-01, -9.03010070e-01,\n",
       "          9.19404805e-01,  3.24405193e-01,  1.42597169e-01,\n",
       "         -4.15907294e-01,  4.94806767e-01,  5.12367785e-01,\n",
       "          2.99407542e-01,  7.84402430e-01,  5.79297125e-01,\n",
       "         -1.15784549e-03,  3.97287816e-01,  2.09327918e-02,\n",
       "         -5.52112609e-02],\n",
       "        [-8.40995684e-02, -4.62236464e-01,  4.34658796e-01,\n",
       "         -4.04539436e-01,  4.62417096e-01,  7.00370014e-01,\n",
       "          7.64053464e-01, -1.68194413e-01, -1.35528371e-01,\n",
       "          2.29150265e-01, -7.83920169e-01, -5.90890825e-01,\n",
       "          5.81392527e-01,  1.96076870e-01, -3.33243221e-01,\n",
       "          4.32877302e-01,  2.24666610e-01,  8.81636664e-02,\n",
       "         -9.09268796e-01, -1.61270034e-02,  2.45062774e-03,\n",
       "         -5.16286075e-01, -2.20607832e-01, -7.67542422e-02,\n",
       "          7.13422656e-01,  9.32896852e-01, -7.10951313e-02,\n",
       "         -5.20996988e-01],\n",
       "        [-5.01444459e-01, -6.92295134e-01,  2.16558695e-01,\n",
       "         -8.70702803e-01, -4.76476341e-01, -2.95503110e-01,\n",
       "          1.22278128e-02,  4.26350623e-01, -2.71791190e-01,\n",
       "         -8.19478408e-02,  5.31257689e-01, -1.09116556e-02,\n",
       "         -2.00968802e-01,  6.03415132e-01,  8.60076725e-01,\n",
       "          3.01669449e-01, -6.66770995e-01,  4.18139011e-01,\n",
       "         -2.76929408e-01,  3.20553929e-01,  2.32459128e-01,\n",
       "         -5.79109907e-01,  1.98345959e-01,  7.90411413e-01,\n",
       "          7.08854973e-01, -2.10100096e-02, -6.06972694e-01,\n",
       "         -6.04452848e-01],\n",
       "        [-5.05195975e-01, -4.05989319e-01, -3.24875474e-01,\n",
       "          7.87801445e-02,  4.72057909e-01,  2.06792355e-01,\n",
       "          5.58411002e-01, -6.53154850e-01,  2.58442461e-01,\n",
       "         -7.47162044e-01,  5.44752359e-01, -3.26021433e-01,\n",
       "          1.55770659e-01, -4.41544235e-01, -8.74483585e-01,\n",
       "         -8.62919748e-01,  3.83679032e-01,  3.42752457e-01,\n",
       "          6.29144788e-01, -3.58971775e-01,  4.87930775e-01,\n",
       "          6.11336827e-01, -8.74616563e-01,  4.86814559e-01,\n",
       "         -7.06494689e-01, -5.23396850e-01, -7.33120203e-01,\n",
       "          6.03758991e-01],\n",
       "        [ 5.82490385e-01,  5.16999722e-01, -2.22171754e-01,\n",
       "          3.70509207e-01, -3.97810578e-01, -5.14669597e-01,\n",
       "          2.54993945e-01, -2.46413946e-01,  3.44387442e-01,\n",
       "          3.41565870e-02, -1.10037282e-01,  1.82689339e-01,\n",
       "         -2.14296460e-01,  7.69960582e-01, -6.56488240e-01,\n",
       "          4.80169475e-01,  6.51018858e-01, -1.30391806e-01,\n",
       "          5.11772260e-02,  3.33558857e-01,  8.11449826e-01,\n",
       "         -3.36775899e-01, -2.70870477e-01,  5.03949165e-01,\n",
       "         -2.37460583e-01,  3.73578459e-01,  5.58745228e-02,\n",
       "         -3.15939039e-01],\n",
       "        [-5.66076696e-01, -1.88811332e-01,  6.85169637e-01,\n",
       "         -6.83534503e-01,  5.58714688e-01, -9.76855010e-02,\n",
       "          4.54291880e-01, -7.27374017e-01, -4.28510368e-01,\n",
       "         -8.81320179e-01,  4.45684910e-01, -1.03394598e-01,\n",
       "         -5.10285683e-02, -2.76053131e-01,  1.80637091e-02,\n",
       "         -3.62896651e-01,  5.94850957e-01,  5.41715026e-01,\n",
       "          4.02464062e-01,  1.40935659e-01, -6.14435196e-01,\n",
       "         -1.12335064e-01,  5.65500975e-01,  3.97966914e-02,\n",
       "          7.77885616e-01,  4.09524053e-01, -5.26227772e-01,\n",
       "          1.16190657e-01],\n",
       "        [-5.47818363e-01,  4.72228006e-02, -5.62994838e-01,\n",
       "          6.57398641e-01,  5.47092855e-02,  5.25676012e-01,\n",
       "         -2.97745585e-01,  3.49123150e-01, -2.96360880e-01,\n",
       "         -3.16945761e-01, -7.34323263e-01, -9.38809276e-01,\n",
       "          6.74304783e-01, -2.41346657e-01, -8.33995920e-03,\n",
       "          1.61702350e-01, -4.49998118e-02,  5.71965992e-01,\n",
       "          4.98466231e-02,  5.31345308e-01, -3.74047399e-01,\n",
       "         -8.82246733e-01, -7.01513588e-01,  5.16141117e-01,\n",
       "         -3.18034023e-01, -3.17945391e-01,  3.18330079e-01,\n",
       "          1.80214584e-01],\n",
       "        [ 9.75354165e-02,  5.34194373e-02, -2.52640456e-01,\n",
       "         -1.86817095e-01, -1.33642629e-01,  1.81573823e-01,\n",
       "          3.61685902e-01,  1.61556512e-01, -7.02658296e-01,\n",
       "         -6.43320918e-01,  6.31017983e-01, -5.35694838e-01,\n",
       "          5.27023315e-01,  2.32573181e-01, -7.93170810e-01,\n",
       "         -5.82684934e-01, -2.72665769e-01,  8.49539459e-01,\n",
       "          5.82865477e-01,  1.05626158e-01,  6.39994740e-01,\n",
       "          4.75999773e-01, -5.08267343e-01,  8.32810163e-01,\n",
       "         -8.02938759e-01,  6.90983593e-01,  2.05718309e-01,\n",
       "          9.21602398e-02],\n",
       "        [ 7.86150038e-01,  4.92984444e-01,  9.75845531e-02,\n",
       "         -8.84963393e-01, -7.47853816e-01, -8.63275826e-01,\n",
       "          1.45921335e-01, -3.97613138e-01,  8.66290927e-01,\n",
       "          7.42747724e-01, -3.34939986e-01, -1.10153437e-01,\n",
       "         -1.17798761e-01,  6.71057343e-01,  7.20127821e-01,\n",
       "         -2.42137745e-01,  4.84091323e-03,  4.61848944e-01,\n",
       "          5.91347992e-01, -7.28143036e-01, -9.60546970e-01,\n",
       "          2.41046026e-01, -7.89197803e-01, -6.55647099e-01,\n",
       "          2.37734601e-01, -4.33670729e-01, -1.46491498e-01,\n",
       "          1.06032267e-01],\n",
       "        [ 5.58196783e-01, -2.18466848e-01, -6.97111309e-01,\n",
       "          3.50654833e-02,  7.18484521e-01, -1.72675714e-01,\n",
       "         -3.07907850e-01,  5.33344626e-01, -3.35965186e-01,\n",
       "          4.15752009e-02, -2.46667245e-04, -4.69730586e-01,\n",
       "         -3.82951200e-01,  9.55856219e-02, -1.85529843e-01,\n",
       "         -7.81339824e-01, -3.25228274e-01, -6.25888169e-01,\n",
       "          5.69203377e-01, -7.95977712e-01, -3.52656752e-01,\n",
       "          3.49032074e-01,  3.79364550e-01,  6.00871027e-01,\n",
       "         -8.15889180e-01, -7.39895999e-02, -4.25685495e-01,\n",
       "         -4.44638312e-01],\n",
       "        [-7.51330733e-01, -2.37633273e-01, -5.21221817e-01,\n",
       "         -5.79969883e-01,  9.06381845e-01, -8.55146050e-01,\n",
       "          3.58904392e-01,  8.61040294e-01, -6.72389686e-01,\n",
       "          2.83990443e-01,  2.81887650e-01, -2.79293716e-01,\n",
       "          3.85570824e-01, -1.82537660e-01,  4.43368286e-01,\n",
       "         -6.31377518e-01,  3.87941301e-01,  2.60053784e-01,\n",
       "         -4.57978070e-01, -4.40073371e-01,  3.70803773e-01,\n",
       "          7.42030144e-01,  6.41679168e-01,  1.21063538e-01,\n",
       "          8.97843003e-01,  4.66186553e-01, -3.45002472e-01,\n",
       "          4.43040818e-01],\n",
       "        [ 2.73526851e-02,  2.40798235e-01,  3.81589830e-01,\n",
       "          4.42840785e-01,  7.36215413e-01, -2.11314201e-01,\n",
       "          2.73637772e-01, -2.54157871e-01,  3.99342209e-01,\n",
       "          2.39250898e-01, -7.92572141e-01,  3.39077145e-01,\n",
       "         -3.36745054e-01,  5.91603279e-01,  7.73378983e-02,\n",
       "         -1.44166537e-02,  2.91658431e-01, -8.27016890e-01,\n",
       "          5.38555443e-01,  6.94822311e-01, -2.29646221e-01,\n",
       "          6.82987869e-01, -8.87329638e-01,  5.67979336e-01,\n",
       "          6.80210650e-01, -2.74920762e-01,  7.72358403e-02,\n",
       "          5.22025347e-01],\n",
       "        [-6.89088181e-03,  3.75235200e-01,  1.58369452e-01,\n",
       "          7.05609620e-01, -1.84242830e-01, -6.67776525e-01,\n",
       "          1.43740505e-01, -1.14552928e-02, -6.36729971e-03,\n",
       "         -8.07325482e-01,  4.50074226e-01, -1.68764561e-01,\n",
       "         -6.64535522e-01,  6.77464724e-01, -8.87265503e-01,\n",
       "         -6.75936222e-01, -3.10787141e-01, -2.99453456e-02,\n",
       "          7.04091728e-01, -2.14804858e-01,  5.12641132e-01,\n",
       "          1.03071697e-01, -4.94033605e-01,  5.74197233e-01,\n",
       "          4.31684703e-01, -5.86659789e-01, -6.41805351e-01,\n",
       "         -2.81048626e-01],\n",
       "        [ 2.31978029e-01,  1.12214759e-01,  6.16840065e-01,\n",
       "          5.87122262e-01,  7.18208551e-01,  1.85738787e-01,\n",
       "          2.79335022e-01,  4.70544815e-01,  8.09160113e-01,\n",
       "          6.89440310e-01,  2.94284761e-01, -3.16045463e-01,\n",
       "         -7.79308498e-01, -6.75197363e-01,  4.52334940e-01,\n",
       "          5.56077883e-02, -3.41891468e-01, -8.59663188e-01,\n",
       "          1.26612738e-01, -5.29792830e-02,  9.58585143e-01,\n",
       "          5.96208394e-01, -4.75487620e-01,  1.63629293e-01,\n",
       "         -5.11961699e-01, -5.90983927e-01, -3.43891174e-01,\n",
       "         -6.60844743e-01],\n",
       "        [-5.56010723e-01, -7.04793274e-01, -6.53055787e-01,\n",
       "          4.91271138e-01,  8.52108657e-01,  6.75588965e-01,\n",
       "          7.72476375e-01,  9.39641416e-01,  1.39532434e-02,\n",
       "         -8.24668467e-01,  7.71593451e-01,  6.07731581e-01,\n",
       "          3.98014188e-01, -8.22389424e-01, -9.81840640e-02,\n",
       "          1.47545531e-01,  4.40075636e-01,  3.16372424e-01,\n",
       "          2.32956365e-01,  4.68279608e-02, -7.65276849e-01,\n",
       "         -1.98697537e-01,  3.12155895e-02, -6.89225674e-01,\n",
       "         -2.62833416e-01,  6.37822598e-02,  6.82871878e-01,\n",
       "          6.14665411e-02],\n",
       "        [-4.58188176e-01, -3.52711946e-01,  2.08993152e-01,\n",
       "         -1.42731830e-01,  8.14256728e-01,  1.15836039e-01,\n",
       "          3.86937022e-01, -8.30298305e-01,  7.35187232e-01,\n",
       "         -8.39877009e-01,  5.97150505e-01, -4.28491563e-01,\n",
       "         -8.72922301e-01, -8.11135530e-01, -8.47442746e-01,\n",
       "         -7.24996865e-01, -6.19305789e-01, -2.94870380e-02,\n",
       "         -1.25611454e-01,  6.51578382e-02,  5.73194504e-01,\n",
       "          3.42594266e-01, -4.49686289e-01, -2.18762651e-01,\n",
       "         -7.64195859e-01,  4.78812188e-01, -6.28864646e-01,\n",
       "          6.09507039e-02],\n",
       "        [-1.50446936e-01,  6.59657359e-01,  2.91915506e-01,\n",
       "          1.74868464e-01, -1.32866099e-01,  1.19876362e-01,\n",
       "          6.91618860e-01, -6.12595022e-01,  3.81054223e-01,\n",
       "         -8.34591091e-02,  3.10504556e-01, -6.09105408e-01,\n",
       "          7.97533929e-01, -3.33399236e-01, -3.83982092e-01,\n",
       "          2.08208159e-01, -5.80020130e-01,  7.70268500e-01,\n",
       "          1.47845447e-01,  4.55707788e-01,  3.18297148e-01,\n",
       "         -6.86272860e-01,  2.82882780e-01,  7.23436773e-01,\n",
       "          3.33010614e-01, -5.73861122e-01,  7.08763182e-01,\n",
       "         -1.09272629e-01],\n",
       "        [ 5.23703933e-01, -9.18612242e-01,  4.54952925e-01,\n",
       "         -8.13922882e-01, -6.81138098e-01,  6.03026807e-01,\n",
       "          7.53896654e-01,  3.99394214e-01, -6.31731212e-01,\n",
       "         -1.17679462e-01,  5.77274144e-01, -3.69963765e-01,\n",
       "         -6.43698156e-01,  1.60518527e-01,  7.37449944e-01,\n",
       "         -5.95077574e-01, -2.77194589e-01,  5.19037247e-01,\n",
       "         -4.51053947e-01, -9.02617633e-01,  4.92807090e-01,\n",
       "          8.60567629e-01,  3.80886137e-01, -6.10012352e-01,\n",
       "         -9.50160861e-01, -4.00853127e-01, -2.97159284e-01,\n",
       "         -6.96484029e-01],\n",
       "        [ 4.58414882e-01,  5.73913813e-01, -4.46102858e-01,\n",
       "          1.46259451e-02, -5.11992455e-01, -1.69589534e-01,\n",
       "          2.11673096e-01,  8.54033232e-01,  8.40612590e-01,\n",
       "         -9.21874523e-01, -4.46156472e-01, -4.34257835e-01,\n",
       "          8.85846019e-01,  2.70549983e-01,  7.88586795e-01,\n",
       "         -1.25028297e-01, -5.59816897e-01,  3.33992124e-01,\n",
       "          3.83955121e-01,  4.09377962e-01, -8.78093958e-01,\n",
       "          5.21276414e-01,  1.98361576e-01, -4.85220671e-01,\n",
       "         -2.01490372e-01, -3.83351356e-01, -5.61857522e-01,\n",
       "          8.57934177e-01],\n",
       "        [-8.76702592e-02, -8.43421519e-01,  8.46871555e-01,\n",
       "          5.37926018e-01,  8.53117108e-02, -5.80271363e-01,\n",
       "         -5.59229493e-01, -8.38768601e-01,  3.79233062e-01,\n",
       "         -8.92329037e-01, -2.41314113e-01, -6.65699065e-01,\n",
       "          3.23619872e-01,  7.06224203e-01, -6.13164306e-01,\n",
       "          3.56575251e-01, -2.66684562e-01,  2.98145771e-01,\n",
       "         -6.36879951e-02,  8.22710931e-01,  8.49593520e-01,\n",
       "          4.35190648e-01,  7.44990528e-01, -4.61541414e-01,\n",
       "         -5.68674207e-01,  5.06662667e-01,  6.39614284e-01,\n",
       "          1.43718734e-01],\n",
       "        [ 9.46699321e-01, -1.66310549e-01, -7.60890126e-01,\n",
       "          3.18598866e-01, -1.59732047e-02, -3.09452832e-01,\n",
       "          3.29705209e-01, -7.93899119e-01,  1.20361730e-01,\n",
       "          6.83478832e-01,  1.43284881e-02, -7.19148040e-01,\n",
       "          4.07030106e-01,  2.40821749e-01,  1.66973136e-02,\n",
       "          1.00080043e-01,  2.97457099e-01,  6.38592569e-03,\n",
       "          8.01358700e-01, -8.97190124e-02, -1.44175276e-01,\n",
       "          4.35531825e-01,  2.88606972e-01,  4.24053282e-01,\n",
       "          7.77847230e-01, -3.96819025e-01,  6.76158249e-01,\n",
       "          2.31715009e-01]]], dtype=float32)"
      ]
     },
     "execution_count": 32,
     "metadata": {},
     "output_type": "execute_result"
    }
   ],
   "execution_count": 32
  },
  {
   "metadata": {
    "ExecuteTime": {
     "end_time": "2025-01-15T15:49:52.666926Z",
     "start_time": "2025-01-15T15:49:52.663788Z"
    }
   },
   "cell_type": "code",
   "source": [
    "mu, sigma = 0, 1\n",
    "key = jax.random.PRNGKey(0)\n",
    "noise_value = value = sigma * jax.random.normal(key, (1,)) + mu"
   ],
   "id": "db3529d08c5c0df1",
   "outputs": [],
   "execution_count": 54
  },
  {
   "metadata": {
    "ExecuteTime": {
     "end_time": "2025-01-15T15:49:53.246511Z",
     "start_time": "2025-01-15T15:49:53.049418Z"
    }
   },
   "cell_type": "code",
   "source": "g_out = generator.apply(params, noise_value)",
   "id": "bf51307b8566c19a",
   "outputs": [],
   "execution_count": 55
  },
  {
   "metadata": {
    "ExecuteTime": {
     "end_time": "2025-01-15T15:49:53.408958Z",
     "start_time": "2025-01-15T15:49:53.406632Z"
    }
   },
   "cell_type": "code",
   "source": [
    "def plot_img(img):\n",
    "    img = np.array(img)\n",
    "    img = img / 2 + 0.5\n",
    "    npimg = img\n",
    "    plt.imshow(np.transpose(npimg, (1, 2, 0)))\n",
    "    plt.show()"
   ],
   "id": "ad78500f273c9b16",
   "outputs": [],
   "execution_count": 56
  },
  {
   "metadata": {
    "ExecuteTime": {
     "end_time": "2025-01-15T16:00:23.142337Z",
     "start_time": "2025-01-15T16:00:23.061022Z"
    }
   },
   "cell_type": "code",
   "source": "plot_img(g_out), jnp.array(0)",
   "id": "75b0987b3902aa83",
   "outputs": [
    {
     "data": {
      "text/plain": [
       "<Figure size 640x480 with 1 Axes>"
      ],
      "image/png": "[encoded data removed]"
     },
     "metadata": {},
     "output_type": "display_data"
    },
    {
     "data": {
      "text/plain": [
       "(None, Array(0, dtype=int32, weak_type=True))"
      ]
     },
     "execution_count": 66,
     "metadata": {},
     "output_type": "execute_result"
    }
   ],
   "execution_count": 66
  },
  {
   "metadata": {
    "ExecuteTime": {
     "end_time": "2025-01-15T15:49:55.400603Z",
     "start_time": "2025-01-15T15:49:55.396471Z"
    }
   },
   "cell_type": "code",
   "source": "noise_value",
   "id": "3cf628b3dca0e31",
   "outputs": [
    {
     "data": {
      "text/plain": [
       "Array([-0.20584226], dtype=float32)"
      ]
     },
     "execution_count": 58,
     "metadata": {},
     "output_type": "execute_result"
    }
   ],
   "execution_count": 58
  },
  {
   "metadata": {
    "ExecuteTime": {
     "end_time": "2025-01-15T15:53:17.185495Z",
     "start_time": "2025-01-15T15:53:17.086179Z"
    }
   },
   "cell_type": "code",
   "source": "noise_tensor = jax.random.normal(key, shape=(70000, 1))",
   "id": "cbb7c1b6f8560f76",
   "outputs": [],
   "execution_count": 60
  },
  {
   "metadata": {
    "ExecuteTime": {
     "end_time": "2025-01-15T16:01:34.722678Z",
     "start_time": "2025-01-15T16:01:34.660060Z"
    }
   },
   "cell_type": "code",
   "source": "gen_images = jnp.zeros((70000, 1, 28, 28))",
   "id": "f9690e3e99370903",
   "outputs": [],
   "execution_count": 69
  },
  {
   "metadata": {
    "ExecuteTime": {
     "end_time": "2025-01-15T16:16:47.410414Z",
     "start_time": "2025-01-15T16:16:41.031233Z"
    }
   },
   "cell_type": "code",
   "source": "gen_images = jax.vmap(generator.apply, in_axes=(None, 0))(params, noise_tensor)",
   "id": "bdcd21ba59a7ff51",
   "outputs": [
    {
     "ename": "KeyboardInterrupt",
     "evalue": "",
     "output_type": "error",
     "traceback": [
      "\u001B[0;31m---------------------------------------------------------------------------\u001B[0m",
      "\u001B[0;31mKeyboardInterrupt\u001B[0m                         Traceback (most recent call last)",
      "Cell \u001B[0;32mIn[72], line 1\u001B[0m\n\u001B[0;32m----> 1\u001B[0m gen_images \u001B[38;5;241m=\u001B[39m \u001B[43mjax\u001B[49m\u001B[38;5;241;43m.\u001B[39;49m\u001B[43mvmap\u001B[49m\u001B[43m(\u001B[49m\u001B[43mgenerator\u001B[49m\u001B[38;5;241;43m.\u001B[39;49m\u001B[43mapply\u001B[49m\u001B[43m,\u001B[49m\u001B[43m \u001B[49m\u001B[43min_axes\u001B[49m\u001B[38;5;241;43m=\u001B[39;49m\u001B[43m(\u001B[49m\u001B[38;5;28;43;01mNone\u001B[39;49;00m\u001B[43m,\u001B[49m\u001B[43m \u001B[49m\u001B[38;5;241;43m0\u001B[39;49m\u001B[43m)\u001B[49m\u001B[43m)\u001B[49m\u001B[43m(\u001B[49m\u001B[43mparams\u001B[49m\u001B[43m,\u001B[49m\u001B[43m \u001B[49m\u001B[43mnoise_tensor\u001B[49m\u001B[43m)\u001B[49m\n",
      "    \u001B[0;31m[... skipping hidden 1 frame]\u001B[0m\n",
      "File \u001B[0;32m/opt/miniconda3/envs/pix2pix/lib/python3.12/site-packages/jax/_src/api.py:994\u001B[0m, in \u001B[0;36mvmap.<locals>.vmap_f\u001B[0;34m(*args, **kwargs)\u001B[0m\n\u001B[1;32m    992\u001B[0m \u001B[38;5;28;01mtry\u001B[39;00m:\n\u001B[1;32m    993\u001B[0m   axis_data \u001B[38;5;241m=\u001B[39m batching\u001B[38;5;241m.\u001B[39mAxisData(axis_name, axis_size_, spmd_axis_name)\n\u001B[0;32m--> 994\u001B[0m   out_flat \u001B[38;5;241m=\u001B[39m \u001B[43mbatching\u001B[49m\u001B[38;5;241;43m.\u001B[39;49m\u001B[43mbatch\u001B[49m\u001B[43m(\u001B[49m\n\u001B[1;32m    995\u001B[0m \u001B[43m      \u001B[49m\u001B[43mflat_fun\u001B[49m\u001B[43m,\u001B[49m\u001B[43m \u001B[49m\u001B[43maxis_data\u001B[49m\u001B[43m,\u001B[49m\u001B[43m \u001B[49m\u001B[43min_axes_flat\u001B[49m\u001B[43m,\u001B[49m\n\u001B[1;32m    996\u001B[0m \u001B[43m      \u001B[49m\u001B[38;5;28;43;01mlambda\u001B[39;49;00m\u001B[43m:\u001B[49m\u001B[43m \u001B[49m\u001B[43mflatten_axes\u001B[49m\u001B[43m(\u001B[49m\u001B[38;5;124;43m\"\u001B[39;49m\u001B[38;5;124;43mvmap out_axes\u001B[39;49m\u001B[38;5;124;43m\"\u001B[39;49m\u001B[43m,\u001B[49m\u001B[43m \u001B[49m\u001B[43mout_tree\u001B[49m\u001B[43m(\u001B[49m\u001B[43m)\u001B[49m\u001B[43m,\u001B[49m\u001B[43m \u001B[49m\u001B[43mout_axes\u001B[49m\u001B[43m)\u001B[49m\n\u001B[1;32m    997\u001B[0m \u001B[43m  \u001B[49m\u001B[43m)\u001B[49m\u001B[38;5;241;43m.\u001B[39;49m\u001B[43mcall_wrapped\u001B[49m\u001B[43m(\u001B[49m\u001B[38;5;241;43m*\u001B[39;49m\u001B[43margs_flat\u001B[49m\u001B[43m)\u001B[49m\n\u001B[1;32m    998\u001B[0m \u001B[38;5;28;01mexcept\u001B[39;00m batching\u001B[38;5;241m.\u001B[39mSpecMatchError \u001B[38;5;28;01mas\u001B[39;00m e:\n\u001B[1;32m    999\u001B[0m   out_axes_flat \u001B[38;5;241m=\u001B[39m flatten_axes(\u001B[38;5;124m\"\u001B[39m\u001B[38;5;124mvmap out_axes\u001B[39m\u001B[38;5;124m\"\u001B[39m, out_tree(), out_axes)\n",
      "File \u001B[0;32m/opt/miniconda3/envs/pix2pix/lib/python3.12/site-packages/jax/_src/linear_util.py:187\u001B[0m, in \u001B[0;36mWrappedFun.call_wrapped\u001B[0;34m(self, *args, **kwargs)\u001B[0m\n\u001B[1;32m    185\u001B[0m \u001B[38;5;28;01mdef\u001B[39;00m\u001B[38;5;250m \u001B[39m\u001B[38;5;21mcall_wrapped\u001B[39m(\u001B[38;5;28mself\u001B[39m, \u001B[38;5;241m*\u001B[39margs, \u001B[38;5;241m*\u001B[39m\u001B[38;5;241m*\u001B[39mkwargs):\n\u001B[1;32m    186\u001B[0m \u001B[38;5;250m  \u001B[39m\u001B[38;5;124;03m\"\"\"Calls the transformed function\"\"\"\u001B[39;00m\n\u001B[0;32m--> 187\u001B[0m   \u001B[38;5;28;01mreturn\u001B[39;00m \u001B[38;5;28;43mself\u001B[39;49m\u001B[38;5;241;43m.\u001B[39;49m\u001B[43mf_transformed\u001B[49m\u001B[43m(\u001B[49m\u001B[38;5;241;43m*\u001B[39;49m\u001B[43margs\u001B[49m\u001B[43m,\u001B[49m\u001B[43m \u001B[49m\u001B[38;5;241;43m*\u001B[39;49m\u001B[38;5;241;43m*\u001B[39;49m\u001B[43mkwargs\u001B[49m\u001B[43m)\u001B[49m\n",
      "File \u001B[0;32m/opt/miniconda3/envs/pix2pix/lib/python3.12/site-packages/jax/_src/interpreters/batching.py:589\u001B[0m, in \u001B[0;36m_batch_outer\u001B[0;34m(f, axis_data, in_dims, *in_vals)\u001B[0m\n\u001B[1;32m    587\u001B[0m tag \u001B[38;5;241m=\u001B[39m TraceTag()\n\u001B[1;32m    588\u001B[0m \u001B[38;5;28;01mwith\u001B[39;00m source_info_util\u001B[38;5;241m.\u001B[39mtransform_name_stack(\u001B[38;5;124m'\u001B[39m\u001B[38;5;124mvmap\u001B[39m\u001B[38;5;124m'\u001B[39m):\n\u001B[0;32m--> 589\u001B[0m   outs, trace \u001B[38;5;241m=\u001B[39m \u001B[43mf\u001B[49m\u001B[43m(\u001B[49m\u001B[43mtag\u001B[49m\u001B[43m,\u001B[49m\u001B[43m \u001B[49m\u001B[43min_dims\u001B[49m\u001B[43m,\u001B[49m\u001B[43m \u001B[49m\u001B[38;5;241;43m*\u001B[39;49m\u001B[43min_vals\u001B[49m\u001B[43m)\u001B[49m\n\u001B[1;32m    590\u001B[0m \u001B[38;5;28;01mwith\u001B[39;00m core\u001B[38;5;241m.\u001B[39mensure_no_leaks(trace): \u001B[38;5;28;01mdel\u001B[39;00m trace\n\u001B[1;32m    591\u001B[0m \u001B[38;5;28;01mreturn\u001B[39;00m outs\n",
      "File \u001B[0;32m/opt/miniconda3/envs/pix2pix/lib/python3.12/site-packages/jax/_src/interpreters/batching.py:604\u001B[0m, in \u001B[0;36m_batch_inner\u001B[0;34m(f, axis_data, out_dim_dests, tag, in_dims, *in_vals)\u001B[0m\n\u001B[1;32m    600\u001B[0m   in_tracers \u001B[38;5;241m=\u001B[39m \u001B[38;5;28mmap\u001B[39m(partial(to_elt, trace, idx), in_vals, in_dims)\n\u001B[1;32m    601\u001B[0m   \u001B[38;5;28;01mwith\u001B[39;00m (core\u001B[38;5;241m.\u001B[39mset_current_trace(trace),\n\u001B[1;32m    602\u001B[0m         core\u001B[38;5;241m.\u001B[39mextend_axis_env_nd([(axis_data\u001B[38;5;241m.\u001B[39mname, axis_data\u001B[38;5;241m.\u001B[39msize)]),\n\u001B[1;32m    603\u001B[0m         core\u001B[38;5;241m.\u001B[39madd_spmd_axis_names(axis_data\u001B[38;5;241m.\u001B[39mspmd_name)):\n\u001B[0;32m--> 604\u001B[0m     outs \u001B[38;5;241m=\u001B[39m \u001B[43mf\u001B[49m\u001B[43m(\u001B[49m\u001B[38;5;241;43m*\u001B[39;49m\u001B[43min_tracers\u001B[49m\u001B[43m)\u001B[49m\n\u001B[1;32m    606\u001B[0m out_dim_dests \u001B[38;5;241m=\u001B[39m out_dim_dests() \u001B[38;5;28;01mif\u001B[39;00m \u001B[38;5;28mcallable\u001B[39m(out_dim_dests) \u001B[38;5;28;01melse\u001B[39;00m out_dim_dests\n\u001B[1;32m    607\u001B[0m out_vals \u001B[38;5;241m=\u001B[39m \u001B[38;5;28mmap\u001B[39m(partial(from_elt, trace, axis_data\u001B[38;5;241m.\u001B[39msize), \u001B[38;5;28mrange\u001B[39m(\u001B[38;5;28mlen\u001B[39m(outs)),\n\u001B[1;32m    608\u001B[0m                outs, out_dim_dests)\n",
      "File \u001B[0;32m/opt/miniconda3/envs/pix2pix/lib/python3.12/site-packages/jax/_src/interpreters/batching.py:333\u001B[0m, in \u001B[0;36mflatten_fun_for_vmap\u001B[0;34m(f, store, in_tree, *args_flat)\u001B[0m\n\u001B[1;32m    330\u001B[0m \u001B[38;5;129m@lu\u001B[39m\u001B[38;5;241m.\u001B[39mtransformation_with_aux2\n\u001B[1;32m    331\u001B[0m \u001B[38;5;28;01mdef\u001B[39;00m\u001B[38;5;250m \u001B[39m\u001B[38;5;21mflatten_fun_for_vmap\u001B[39m(f, store, in_tree, \u001B[38;5;241m*\u001B[39margs_flat):\n\u001B[1;32m    332\u001B[0m   py_args, py_kwargs \u001B[38;5;241m=\u001B[39m tree_unflatten(in_tree, args_flat)\n\u001B[0;32m--> 333\u001B[0m   ans \u001B[38;5;241m=\u001B[39m \u001B[43mf\u001B[49m\u001B[43m(\u001B[49m\u001B[38;5;241;43m*\u001B[39;49m\u001B[43mpy_args\u001B[49m\u001B[43m,\u001B[49m\u001B[43m \u001B[49m\u001B[38;5;241;43m*\u001B[39;49m\u001B[38;5;241;43m*\u001B[39;49m\u001B[43mpy_kwargs\u001B[49m\u001B[43m)\u001B[49m\n\u001B[1;32m    334\u001B[0m   ans, out_tree \u001B[38;5;241m=\u001B[39m tree_flatten(ans, is_leaf\u001B[38;5;241m=\u001B[39mis_vmappable)\n\u001B[1;32m    335\u001B[0m   store\u001B[38;5;241m.\u001B[39mstore(out_tree)\n",
      "    \u001B[0;31m[... skipping hidden 1 frame]\u001B[0m\n",
      "File \u001B[0;32m/opt/miniconda3/envs/pix2pix/lib/python3.12/site-packages/flax/linen/module.py:2235\u001B[0m, in \u001B[0;36mModule.apply\u001B[0;34m(self, variables, rngs, method, mutable, capture_intermediates, *args, **kwargs)\u001B[0m\n\u001B[1;32m   2233\u001B[0m   method \u001B[38;5;241m=\u001B[39m \u001B[38;5;28mself\u001B[39m\u001B[38;5;241m.\u001B[39m\u001B[38;5;21m__call__\u001B[39m\n\u001B[1;32m   2234\u001B[0m method \u001B[38;5;241m=\u001B[39m _get_unbound_fn(method)\n\u001B[0;32m-> 2235\u001B[0m \u001B[38;5;28;01mreturn\u001B[39;00m \u001B[43mapply\u001B[49m\u001B[43m(\u001B[49m\n\u001B[1;32m   2236\u001B[0m \u001B[43m  \u001B[49m\u001B[43mmethod\u001B[49m\u001B[43m,\u001B[49m\n\u001B[1;32m   2237\u001B[0m \u001B[43m  \u001B[49m\u001B[38;5;28;43mself\u001B[39;49m\u001B[43m,\u001B[49m\n\u001B[1;32m   2238\u001B[0m \u001B[43m  \u001B[49m\u001B[43mmutable\u001B[49m\u001B[38;5;241;43m=\u001B[39;49m\u001B[43mmutable\u001B[49m\u001B[43m,\u001B[49m\n\u001B[1;32m   2239\u001B[0m \u001B[43m  \u001B[49m\u001B[43mcapture_intermediates\u001B[49m\u001B[38;5;241;43m=\u001B[39;49m\u001B[43mcapture_intermediates\u001B[49m\u001B[43m,\u001B[49m\n\u001B[1;32m   2240\u001B[0m \u001B[43m\u001B[49m\u001B[43m)\u001B[49m\u001B[43m(\u001B[49m\u001B[43mvariables\u001B[49m\u001B[43m,\u001B[49m\u001B[43m \u001B[49m\u001B[38;5;241;43m*\u001B[39;49m\u001B[43margs\u001B[49m\u001B[43m,\u001B[49m\u001B[43m \u001B[49m\u001B[38;5;241;43m*\u001B[39;49m\u001B[38;5;241;43m*\u001B[39;49m\u001B[43mkwargs\u001B[49m\u001B[43m,\u001B[49m\u001B[43m \u001B[49m\u001B[43mrngs\u001B[49m\u001B[38;5;241;43m=\u001B[39;49m\u001B[43mrngs\u001B[49m\u001B[43m)\u001B[49m\n",
      "File \u001B[0;32m/opt/miniconda3/envs/pix2pix/lib/python3.12/site-packages/flax/core/scope.py:1079\u001B[0m, in \u001B[0;36mapply.<locals>.wrapper\u001B[0;34m(variables, rngs, *args, **kwargs)\u001B[0m\n\u001B[1;32m   1074\u001B[0m   \u001B[38;5;28;01mraise\u001B[39;00m errors\u001B[38;5;241m.\u001B[39mApplyScopeInvalidVariablesStructureError(variables)\n\u001B[1;32m   1076\u001B[0m \u001B[38;5;28;01mwith\u001B[39;00m bind(\n\u001B[1;32m   1077\u001B[0m   variables, rngs\u001B[38;5;241m=\u001B[39mrngs, mutable\u001B[38;5;241m=\u001B[39mmutable, flags\u001B[38;5;241m=\u001B[39mflags\n\u001B[1;32m   1078\u001B[0m )\u001B[38;5;241m.\u001B[39mtemporary() \u001B[38;5;28;01mas\u001B[39;00m root:\n\u001B[0;32m-> 1079\u001B[0m   y \u001B[38;5;241m=\u001B[39m \u001B[43mfn\u001B[49m\u001B[43m(\u001B[49m\u001B[43mroot\u001B[49m\u001B[43m,\u001B[49m\u001B[43m \u001B[49m\u001B[38;5;241;43m*\u001B[39;49m\u001B[43margs\u001B[49m\u001B[43m,\u001B[49m\u001B[43m \u001B[49m\u001B[38;5;241;43m*\u001B[39;49m\u001B[38;5;241;43m*\u001B[39;49m\u001B[43mkwargs\u001B[49m\u001B[43m)\u001B[49m\n\u001B[1;32m   1080\u001B[0m \u001B[38;5;28;01mif\u001B[39;00m mutable \u001B[38;5;129;01mis\u001B[39;00m \u001B[38;5;129;01mnot\u001B[39;00m \u001B[38;5;28;01mFalse\u001B[39;00m:\n\u001B[1;32m   1081\u001B[0m   \u001B[38;5;28;01mreturn\u001B[39;00m y, root\u001B[38;5;241m.\u001B[39mmutable_variables()\n",
      "File \u001B[0;32m/opt/miniconda3/envs/pix2pix/lib/python3.12/site-packages/flax/linen/module.py:3017\u001B[0m, in \u001B[0;36mapply.<locals>.scope_fn\u001B[0;34m(scope, *args, **kwargs)\u001B[0m\n\u001B[1;32m   3015\u001B[0m _context\u001B[38;5;241m.\u001B[39mcapture_stack\u001B[38;5;241m.\u001B[39mappend(capture_intermediates)\n\u001B[1;32m   3016\u001B[0m \u001B[38;5;28;01mtry\u001B[39;00m:\n\u001B[0;32m-> 3017\u001B[0m   \u001B[38;5;28;01mreturn\u001B[39;00m \u001B[43mfn\u001B[49m\u001B[43m(\u001B[49m\u001B[43mmodule\u001B[49m\u001B[38;5;241;43m.\u001B[39;49m\u001B[43mclone\u001B[49m\u001B[43m(\u001B[49m\u001B[43mparent\u001B[49m\u001B[38;5;241;43m=\u001B[39;49m\u001B[43mscope\u001B[49m\u001B[43m,\u001B[49m\u001B[43m \u001B[49m\u001B[43m_deep_clone\u001B[49m\u001B[38;5;241;43m=\u001B[39;49m\u001B[38;5;28;43;01mTrue\u001B[39;49;00m\u001B[43m)\u001B[49m\u001B[43m,\u001B[49m\u001B[43m \u001B[49m\u001B[38;5;241;43m*\u001B[39;49m\u001B[43margs\u001B[49m\u001B[43m,\u001B[49m\u001B[43m \u001B[49m\u001B[38;5;241;43m*\u001B[39;49m\u001B[38;5;241;43m*\u001B[39;49m\u001B[43mkwargs\u001B[49m\u001B[43m)\u001B[49m\n\u001B[1;32m   3018\u001B[0m \u001B[38;5;28;01mfinally\u001B[39;00m:\n\u001B[1;32m   3019\u001B[0m   _context\u001B[38;5;241m.\u001B[39mcapture_stack\u001B[38;5;241m.\u001B[39mpop()\n",
      "File \u001B[0;32m/opt/miniconda3/envs/pix2pix/lib/python3.12/site-packages/flax/linen/module.py:699\u001B[0m, in \u001B[0;36mwrap_method_once.<locals>.wrapped_module_method\u001B[0;34m(*args, **kwargs)\u001B[0m\n\u001B[1;32m    697\u001B[0m \u001B[38;5;28;01mif\u001B[39;00m args \u001B[38;5;129;01mand\u001B[39;00m \u001B[38;5;28misinstance\u001B[39m(args[\u001B[38;5;241m0\u001B[39m], Module):\n\u001B[1;32m    698\u001B[0m   \u001B[38;5;28mself\u001B[39m, args \u001B[38;5;241m=\u001B[39m args[\u001B[38;5;241m0\u001B[39m], args[\u001B[38;5;241m1\u001B[39m:]\n\u001B[0;32m--> 699\u001B[0m   \u001B[38;5;28;01mreturn\u001B[39;00m \u001B[38;5;28;43mself\u001B[39;49m\u001B[38;5;241;43m.\u001B[39;49m\u001B[43m_call_wrapped_method\u001B[49m\u001B[43m(\u001B[49m\u001B[43mfun\u001B[49m\u001B[43m,\u001B[49m\u001B[43m \u001B[49m\u001B[43margs\u001B[49m\u001B[43m,\u001B[49m\u001B[43m \u001B[49m\u001B[43mkwargs\u001B[49m\u001B[43m)\u001B[49m\n\u001B[1;32m    700\u001B[0m \u001B[38;5;28;01melse\u001B[39;00m:\n\u001B[1;32m    701\u001B[0m   \u001B[38;5;28;01mreturn\u001B[39;00m fun(\u001B[38;5;241m*\u001B[39margs, \u001B[38;5;241m*\u001B[39m\u001B[38;5;241m*\u001B[39mkwargs)\n",
      "File \u001B[0;32m/opt/miniconda3/envs/pix2pix/lib/python3.12/site-packages/flax/linen/module.py:1216\u001B[0m, in \u001B[0;36mModule._call_wrapped_method\u001B[0;34m(self, fun, args, kwargs)\u001B[0m\n\u001B[1;32m   1214\u001B[0m \u001B[38;5;28;01mif\u001B[39;00m _use_named_call:\n\u001B[1;32m   1215\u001B[0m   \u001B[38;5;28;01mwith\u001B[39;00m jax\u001B[38;5;241m.\u001B[39mnamed_scope(_derive_profiling_name(\u001B[38;5;28mself\u001B[39m, fun)):\n\u001B[0;32m-> 1216\u001B[0m     y \u001B[38;5;241m=\u001B[39m \u001B[43mrun_fun\u001B[49m\u001B[43m(\u001B[49m\u001B[38;5;28;43mself\u001B[39;49m\u001B[43m,\u001B[49m\u001B[43m \u001B[49m\u001B[38;5;241;43m*\u001B[39;49m\u001B[43margs\u001B[49m\u001B[43m,\u001B[49m\u001B[43m \u001B[49m\u001B[38;5;241;43m*\u001B[39;49m\u001B[38;5;241;43m*\u001B[39;49m\u001B[43mkwargs\u001B[49m\u001B[43m)\u001B[49m\n\u001B[1;32m   1217\u001B[0m \u001B[38;5;28;01melse\u001B[39;00m:\n\u001B[1;32m   1218\u001B[0m   y \u001B[38;5;241m=\u001B[39m run_fun(\u001B[38;5;28mself\u001B[39m, \u001B[38;5;241m*\u001B[39margs, \u001B[38;5;241m*\u001B[39m\u001B[38;5;241m*\u001B[39mkwargs)\n",
      "Cell \u001B[0;32mIn[15], line 18\u001B[0m, in \u001B[0;36mGenerator.__call__\u001B[0;34m(self, x)\u001B[0m\n\u001B[1;32m     16\u001B[0m         m \u001B[38;5;241m+\u001B[39m\u001B[38;5;241m=\u001B[39m \u001B[38;5;241m1\u001B[39m\n\u001B[1;32m     17\u001B[0m         n \u001B[38;5;241m=\u001B[39m \u001B[38;5;241m0\u001B[39m\n\u001B[0;32m---> 18\u001B[0m     g_out_mat \u001B[38;5;241m=\u001B[39m \u001B[43mg_out_mat\u001B[49m\u001B[38;5;241;43m.\u001B[39;49m\u001B[43mat\u001B[49m\u001B[43m[\u001B[49m\u001B[38;5;241;43m0\u001B[39;49m\u001B[43m,\u001B[49m\u001B[43m \u001B[49m\u001B[43mm\u001B[49m\u001B[43m,\u001B[49m\u001B[43m \u001B[49m\u001B[43mn\u001B[49m\u001B[43m]\u001B[49m\u001B[38;5;241;43m.\u001B[39;49m\u001B[43mset\u001B[49m\u001B[43m(\u001B[49m\u001B[43mx\u001B[49m\u001B[43m[\u001B[49m\u001B[43mi\u001B[49m\u001B[43m]\u001B[49m\u001B[43m)\u001B[49m\n\u001B[1;32m     19\u001B[0m     n \u001B[38;5;241m+\u001B[39m\u001B[38;5;241m=\u001B[39m \u001B[38;5;241m1\u001B[39m\n\u001B[1;32m     20\u001B[0m \u001B[38;5;28;01mreturn\u001B[39;00m g_out_mat\n",
      "File \u001B[0;32m/opt/miniconda3/envs/pix2pix/lib/python3.12/site-packages/jax/_src/numpy/array_methods.py:788\u001B[0m, in \u001B[0;36m_IndexUpdateRef.set\u001B[0;34m(self, values, indices_are_sorted, unique_indices, mode)\u001B[0m\n\u001B[1;32m    779\u001B[0m \u001B[38;5;28;01mdef\u001B[39;00m\u001B[38;5;250m \u001B[39m\u001B[38;5;21mset\u001B[39m(\u001B[38;5;28mself\u001B[39m, values, \u001B[38;5;241m*\u001B[39m, indices_are_sorted\u001B[38;5;241m=\u001B[39m\u001B[38;5;28;01mFalse\u001B[39;00m, unique_indices\u001B[38;5;241m=\u001B[39m\u001B[38;5;28;01mFalse\u001B[39;00m,\n\u001B[1;32m    780\u001B[0m         mode\u001B[38;5;241m=\u001B[39m\u001B[38;5;28;01mNone\u001B[39;00m):\n\u001B[1;32m    781\u001B[0m \u001B[38;5;250m  \u001B[39m\u001B[38;5;124;03m\"\"\"Pure equivalent of ``x[idx] = y``.\u001B[39;00m\n\u001B[1;32m    782\u001B[0m \n\u001B[1;32m    783\u001B[0m \u001B[38;5;124;03m  Returns the value of ``x`` that would result from the NumPy-style\u001B[39;00m\n\u001B[0;32m   (...)\u001B[0m\n\u001B[1;32m    786\u001B[0m \u001B[38;5;124;03m  See :mod:`jax.ops` for details.\u001B[39;00m\n\u001B[1;32m    787\u001B[0m \u001B[38;5;124;03m  \"\"\"\u001B[39;00m\n\u001B[0;32m--> 788\u001B[0m   \u001B[38;5;28;01mreturn\u001B[39;00m \u001B[43mscatter\u001B[49m\u001B[38;5;241;43m.\u001B[39;49m\u001B[43m_scatter_update\u001B[49m\u001B[43m(\u001B[49m\u001B[38;5;28;43mself\u001B[39;49m\u001B[38;5;241;43m.\u001B[39;49m\u001B[43marray\u001B[49m\u001B[43m,\u001B[49m\u001B[43m \u001B[49m\u001B[38;5;28;43mself\u001B[39;49m\u001B[38;5;241;43m.\u001B[39;49m\u001B[43mindex\u001B[49m\u001B[43m,\u001B[49m\u001B[43m \u001B[49m\u001B[43mvalues\u001B[49m\u001B[43m,\u001B[49m\u001B[43m \u001B[49m\u001B[43mlax\u001B[49m\u001B[38;5;241;43m.\u001B[39;49m\u001B[43mscatter\u001B[49m\u001B[43m,\u001B[49m\n\u001B[1;32m    789\u001B[0m \u001B[43m                                 \u001B[49m\u001B[43mindices_are_sorted\u001B[49m\u001B[38;5;241;43m=\u001B[39;49m\u001B[43mindices_are_sorted\u001B[49m\u001B[43m,\u001B[49m\n\u001B[1;32m    790\u001B[0m \u001B[43m                                 \u001B[49m\u001B[43munique_indices\u001B[49m\u001B[38;5;241;43m=\u001B[39;49m\u001B[43munique_indices\u001B[49m\u001B[43m,\u001B[49m\u001B[43m \u001B[49m\u001B[43mmode\u001B[49m\u001B[38;5;241;43m=\u001B[39;49m\u001B[43mmode\u001B[49m\u001B[43m)\u001B[49m\n",
      "File \u001B[0;32m/opt/miniconda3/envs/pix2pix/lib/python3.12/site-packages/jax/_src/ops/scatter.py:76\u001B[0m, in \u001B[0;36m_scatter_update\u001B[0;34m(x, idx, y, scatter_op, indices_are_sorted, unique_indices, mode, normalize_indices)\u001B[0m\n\u001B[1;32m     73\u001B[0m \u001B[38;5;66;03m# XLA gathers and scatters are very similar in structure; the scatter logic\u001B[39;00m\n\u001B[1;32m     74\u001B[0m \u001B[38;5;66;03m# is more or less a transpose of the gather equivalent.\u001B[39;00m\n\u001B[1;32m     75\u001B[0m treedef, static_idx, dynamic_idx \u001B[38;5;241m=\u001B[39m jnp\u001B[38;5;241m.\u001B[39m_split_index_for_jit(idx, x\u001B[38;5;241m.\u001B[39mshape)\n\u001B[0;32m---> 76\u001B[0m \u001B[38;5;28;01mreturn\u001B[39;00m \u001B[43m_scatter_impl\u001B[49m\u001B[43m(\u001B[49m\u001B[43mx\u001B[49m\u001B[43m,\u001B[49m\u001B[43m \u001B[49m\u001B[43my\u001B[49m\u001B[43m,\u001B[49m\u001B[43m \u001B[49m\u001B[43mscatter_op\u001B[49m\u001B[43m,\u001B[49m\u001B[43m \u001B[49m\u001B[43mtreedef\u001B[49m\u001B[43m,\u001B[49m\u001B[43m \u001B[49m\u001B[43mstatic_idx\u001B[49m\u001B[43m,\u001B[49m\u001B[43m \u001B[49m\u001B[43mdynamic_idx\u001B[49m\u001B[43m,\u001B[49m\n\u001B[1;32m     77\u001B[0m \u001B[43m                     \u001B[49m\u001B[43mindices_are_sorted\u001B[49m\u001B[43m,\u001B[49m\u001B[43m \u001B[49m\u001B[43munique_indices\u001B[49m\u001B[43m,\u001B[49m\u001B[43m \u001B[49m\u001B[43mmode\u001B[49m\u001B[43m,\u001B[49m\n\u001B[1;32m     78\u001B[0m \u001B[43m                     \u001B[49m\u001B[43mnormalize_indices\u001B[49m\u001B[43m)\u001B[49m\n",
      "File \u001B[0;32m/opt/miniconda3/envs/pix2pix/lib/python3.12/site-packages/jax/_src/ops/scatter.py:113\u001B[0m, in \u001B[0;36m_scatter_impl\u001B[0;34m(x, y, scatter_op, treedef, static_idx, dynamic_idx, indices_are_sorted, unique_indices, mode, normalize_indices)\u001B[0m\n\u001B[1;32m    111\u001B[0m y \u001B[38;5;241m=\u001B[39m jnp\u001B[38;5;241m.\u001B[39mbroadcast_to(y, \u001B[38;5;28mtuple\u001B[39m(indexer\u001B[38;5;241m.\u001B[39mslice_shape))\n\u001B[1;32m    112\u001B[0m \u001B[38;5;66;03m# Collapse any `None`/`jnp.newaxis` dimensions.\u001B[39;00m\n\u001B[0;32m--> 113\u001B[0m y \u001B[38;5;241m=\u001B[39m \u001B[43mjnp\u001B[49m\u001B[38;5;241;43m.\u001B[39;49m\u001B[43msqueeze\u001B[49m\u001B[43m(\u001B[49m\u001B[43my\u001B[49m\u001B[43m,\u001B[49m\u001B[43m \u001B[49m\u001B[43maxis\u001B[49m\u001B[38;5;241;43m=\u001B[39;49m\u001B[43mindexer\u001B[49m\u001B[38;5;241;43m.\u001B[39;49m\u001B[43mnewaxis_dims\u001B[49m\u001B[43m)\u001B[49m\n\u001B[1;32m    114\u001B[0m \u001B[38;5;28;01mif\u001B[39;00m indexer\u001B[38;5;241m.\u001B[39mreversed_y_dims:\n\u001B[1;32m    115\u001B[0m   y \u001B[38;5;241m=\u001B[39m lax\u001B[38;5;241m.\u001B[39mrev(y, indexer\u001B[38;5;241m.\u001B[39mreversed_y_dims)\n",
      "File \u001B[0;32m/opt/miniconda3/envs/pix2pix/lib/python3.12/site-packages/jax/_src/numpy/lax_numpy.py:2484\u001B[0m, in \u001B[0;36msqueeze\u001B[0;34m(a, axis)\u001B[0m\n\u001B[1;32m   2428\u001B[0m \u001B[38;5;250m\u001B[39m\u001B[38;5;124;03m\"\"\"Remove one or more length-1 axes from array\u001B[39;00m\n\u001B[1;32m   2429\u001B[0m \n\u001B[1;32m   2430\u001B[0m \u001B[38;5;124;03mJAX implementation of :func:`numpy.sqeeze`, implemented via :func:`jax.lax.squeeze`.\u001B[39;00m\n\u001B[0;32m   (...)\u001B[0m\n\u001B[1;32m   2481\u001B[0m \u001B[38;5;124;03m  Array([0, 1, 2], dtype=int32)\u001B[39;00m\n\u001B[1;32m   2482\u001B[0m \u001B[38;5;124;03m\"\"\"\u001B[39;00m\n\u001B[1;32m   2483\u001B[0m util\u001B[38;5;241m.\u001B[39mcheck_arraylike(\u001B[38;5;124m\"\u001B[39m\u001B[38;5;124msqueeze\u001B[39m\u001B[38;5;124m\"\u001B[39m, a)\n\u001B[0;32m-> 2484\u001B[0m \u001B[38;5;28;01mreturn\u001B[39;00m \u001B[43m_squeeze\u001B[49m\u001B[43m(\u001B[49m\u001B[43masarray\u001B[49m\u001B[43m(\u001B[49m\u001B[43ma\u001B[49m\u001B[43m)\u001B[49m\u001B[43m,\u001B[49m\u001B[43m \u001B[49m\u001B[43m_ensure_index_tuple\u001B[49m\u001B[43m(\u001B[49m\u001B[43maxis\u001B[49m\u001B[43m)\u001B[49m\u001B[43m \u001B[49m\u001B[38;5;28;43;01mif\u001B[39;49;00m\u001B[43m \u001B[49m\u001B[43maxis\u001B[49m\u001B[43m \u001B[49m\u001B[38;5;129;43;01mis\u001B[39;49;00m\u001B[43m \u001B[49m\u001B[38;5;129;43;01mnot\u001B[39;49;00m\u001B[43m \u001B[49m\u001B[38;5;28;43;01mNone\u001B[39;49;00m\u001B[43m \u001B[49m\u001B[38;5;28;43;01melse\u001B[39;49;00m\u001B[43m \u001B[49m\u001B[38;5;28;43;01mNone\u001B[39;49;00m\u001B[43m)\u001B[49m\n",
      "    \u001B[0;31m[... skipping hidden 1 frame]\u001B[0m\n",
      "File \u001B[0;32m/opt/miniconda3/envs/pix2pix/lib/python3.12/site-packages/jax/_src/pjit.py:337\u001B[0m, in \u001B[0;36m_cpp_pjit.<locals>.cache_miss\u001B[0;34m(*args, **kwargs)\u001B[0m\n\u001B[1;32m    332\u001B[0m \u001B[38;5;28;01mif\u001B[39;00m config\u001B[38;5;241m.\u001B[39mno_tracing\u001B[38;5;241m.\u001B[39mvalue:\n\u001B[1;32m    333\u001B[0m   \u001B[38;5;28;01mraise\u001B[39;00m \u001B[38;5;167;01mRuntimeError\u001B[39;00m(\u001B[38;5;124mf\u001B[39m\u001B[38;5;124m\"\u001B[39m\u001B[38;5;124mre-tracing function \u001B[39m\u001B[38;5;132;01m{\u001B[39;00mjit_info\u001B[38;5;241m.\u001B[39mfun_sourceinfo\u001B[38;5;132;01m}\u001B[39;00m\u001B[38;5;124m for \u001B[39m\u001B[38;5;124m\"\u001B[39m\n\u001B[1;32m    334\u001B[0m                      \u001B[38;5;124m\"\u001B[39m\u001B[38;5;124m`jit`, but \u001B[39m\u001B[38;5;124m'\u001B[39m\u001B[38;5;124mno_tracing\u001B[39m\u001B[38;5;124m'\u001B[39m\u001B[38;5;124m is set\u001B[39m\u001B[38;5;124m\"\u001B[39m)\n\u001B[1;32m    336\u001B[0m (outs, out_flat, out_tree, args_flat, jaxpr, attrs_tracked, executable,\n\u001B[0;32m--> 337\u001B[0m  pgle_profiler) \u001B[38;5;241m=\u001B[39m \u001B[43m_python_pjit_helper\u001B[49m\u001B[43m(\u001B[49m\u001B[43mfun\u001B[49m\u001B[43m,\u001B[49m\u001B[43m \u001B[49m\u001B[43mjit_info\u001B[49m\u001B[43m,\u001B[49m\u001B[43m \u001B[49m\u001B[38;5;241;43m*\u001B[39;49m\u001B[43margs\u001B[49m\u001B[43m,\u001B[49m\u001B[43m \u001B[49m\u001B[38;5;241;43m*\u001B[39;49m\u001B[38;5;241;43m*\u001B[39;49m\u001B[43mkwargs\u001B[49m\u001B[43m)\u001B[49m\n\u001B[1;32m    339\u001B[0m maybe_fastpath_data \u001B[38;5;241m=\u001B[39m _get_fastpath_data(\n\u001B[1;32m    340\u001B[0m     executable, out_tree, args_flat, out_flat, attrs_tracked, jaxpr\u001B[38;5;241m.\u001B[39meffects,\n\u001B[1;32m    341\u001B[0m     jaxpr\u001B[38;5;241m.\u001B[39mconsts, jit_info\u001B[38;5;241m.\u001B[39mabstracted_axes,\n\u001B[1;32m    342\u001B[0m     pgle_profiler)\n\u001B[1;32m    344\u001B[0m \u001B[38;5;28;01mreturn\u001B[39;00m outs, maybe_fastpath_data, _need_to_rebuild_with_fdo(pgle_profiler)\n",
      "File \u001B[0;32m/opt/miniconda3/envs/pix2pix/lib/python3.12/site-packages/jax/_src/pjit.py:197\u001B[0m, in \u001B[0;36m_python_pjit_helper\u001B[0;34m(fun, jit_info, *args, **kwargs)\u001B[0m\n\u001B[1;32m    195\u001B[0m   out_flat, compiled, profiler \u001B[38;5;241m=\u001B[39m _pjit_call_impl_python(\u001B[38;5;241m*\u001B[39margs_flat, \u001B[38;5;241m*\u001B[39m\u001B[38;5;241m*\u001B[39mp\u001B[38;5;241m.\u001B[39mparams)\n\u001B[1;32m    196\u001B[0m \u001B[38;5;28;01melse\u001B[39;00m:\n\u001B[0;32m--> 197\u001B[0m   out_flat \u001B[38;5;241m=\u001B[39m \u001B[43mpjit_p\u001B[49m\u001B[38;5;241;43m.\u001B[39;49m\u001B[43mbind\u001B[49m\u001B[43m(\u001B[49m\u001B[38;5;241;43m*\u001B[39;49m\u001B[43margs_flat\u001B[49m\u001B[43m,\u001B[49m\u001B[43m \u001B[49m\u001B[38;5;241;43m*\u001B[39;49m\u001B[38;5;241;43m*\u001B[39;49m\u001B[43mp\u001B[49m\u001B[38;5;241;43m.\u001B[39;49m\u001B[43mparams\u001B[49m\u001B[43m)\u001B[49m\n\u001B[1;32m    198\u001B[0m   compiled \u001B[38;5;241m=\u001B[39m \u001B[38;5;28;01mNone\u001B[39;00m\n\u001B[1;32m    199\u001B[0m   profiler \u001B[38;5;241m=\u001B[39m \u001B[38;5;28;01mNone\u001B[39;00m\n",
      "File \u001B[0;32m/opt/miniconda3/envs/pix2pix/lib/python3.12/site-packages/jax/_src/core.py:463\u001B[0m, in \u001B[0;36mPrimitive.bind\u001B[0;34m(self, *args, **params)\u001B[0m\n\u001B[1;32m    461\u001B[0m trace_ctx\u001B[38;5;241m.\u001B[39mset_trace(eval_trace)\n\u001B[1;32m    462\u001B[0m \u001B[38;5;28;01mtry\u001B[39;00m:\n\u001B[0;32m--> 463\u001B[0m   \u001B[38;5;28;01mreturn\u001B[39;00m \u001B[38;5;28;43mself\u001B[39;49m\u001B[38;5;241;43m.\u001B[39;49m\u001B[43mbind_with_trace\u001B[49m\u001B[43m(\u001B[49m\u001B[43mprev_trace\u001B[49m\u001B[43m,\u001B[49m\u001B[43m \u001B[49m\u001B[43margs\u001B[49m\u001B[43m,\u001B[49m\u001B[43m \u001B[49m\u001B[43mparams\u001B[49m\u001B[43m)\u001B[49m\n\u001B[1;32m    464\u001B[0m \u001B[38;5;28;01mfinally\u001B[39;00m:\n\u001B[1;32m    465\u001B[0m   trace_ctx\u001B[38;5;241m.\u001B[39mset_trace(prev_trace)\n",
      "File \u001B[0;32m/opt/miniconda3/envs/pix2pix/lib/python3.12/site-packages/jax/_src/core.py:468\u001B[0m, in \u001B[0;36mPrimitive.bind_with_trace\u001B[0;34m(self, trace, args, params)\u001B[0m\n\u001B[1;32m    467\u001B[0m \u001B[38;5;28;01mdef\u001B[39;00m\u001B[38;5;250m \u001B[39m\u001B[38;5;21mbind_with_trace\u001B[39m(\u001B[38;5;28mself\u001B[39m, trace, args, params):\n\u001B[0;32m--> 468\u001B[0m   \u001B[38;5;28;01mreturn\u001B[39;00m \u001B[43mtrace\u001B[49m\u001B[38;5;241;43m.\u001B[39;49m\u001B[43mprocess_primitive\u001B[49m\u001B[43m(\u001B[49m\u001B[38;5;28;43mself\u001B[39;49m\u001B[43m,\u001B[49m\u001B[43m \u001B[49m\u001B[43margs\u001B[49m\u001B[43m,\u001B[49m\u001B[43m \u001B[49m\u001B[43mparams\u001B[49m\u001B[43m)\u001B[49m\n",
      "File \u001B[0;32m/opt/miniconda3/envs/pix2pix/lib/python3.12/site-packages/jax/_src/interpreters/batching.py:474\u001B[0m, in \u001B[0;36mBatchTrace.process_primitive\u001B[0;34m(self, p, tracers, params)\u001B[0m\n\u001B[1;32m    472\u001B[0m   \u001B[38;5;28;01melse\u001B[39;00m:\n\u001B[1;32m    473\u001B[0m     \u001B[38;5;28;01mwith\u001B[39;00m core\u001B[38;5;241m.\u001B[39mset_current_trace(\u001B[38;5;28mself\u001B[39m\u001B[38;5;241m.\u001B[39mparent_trace):\n\u001B[0;32m--> 474\u001B[0m       val_out, dim_out \u001B[38;5;241m=\u001B[39m \u001B[43mfancy_primitive_batchers\u001B[49m\u001B[43m[\u001B[49m\u001B[43mp\u001B[49m\u001B[43m]\u001B[49m\u001B[43m(\u001B[49m\u001B[38;5;28;43mself\u001B[39;49m\u001B[38;5;241;43m.\u001B[39;49m\u001B[43maxis_data\u001B[49m\u001B[43m,\u001B[49m\u001B[43m \u001B[49m\u001B[43mvals_in\u001B[49m\u001B[43m,\u001B[49m\u001B[43m \u001B[49m\u001B[43mdims_in\u001B[49m\u001B[43m,\u001B[49m\u001B[43m \u001B[49m\u001B[38;5;241;43m*\u001B[39;49m\u001B[38;5;241;43m*\u001B[39;49m\u001B[43mparams\u001B[49m\u001B[43m)\u001B[49m\n\u001B[1;32m    475\u001B[0m \u001B[38;5;28;01melif\u001B[39;00m args_not_mapped:\n\u001B[1;32m    476\u001B[0m   \u001B[38;5;66;03m# no-op shortcut\u001B[39;00m\n\u001B[1;32m    477\u001B[0m   \u001B[38;5;28;01mreturn\u001B[39;00m p\u001B[38;5;241m.\u001B[39mbind_with_trace(\u001B[38;5;28mself\u001B[39m\u001B[38;5;241m.\u001B[39mparent_trace, vals_in, params)\n",
      "File \u001B[0;32m/opt/miniconda3/envs/pix2pix/lib/python3.12/site-packages/jax/_src/pjit.py:1997\u001B[0m, in \u001B[0;36m_pjit_batcher\u001B[0;34m(axis_data, vals_in, dims_in, jaxpr, in_shardings, out_shardings, in_layouts, out_layouts, resource_env, donated_invars, name, keep_unused, inline, compiler_options_kvs)\u001B[0m\n\u001B[1;32m   1992\u001B[0m \u001B[38;5;28;01mif\u001B[39;00m \u001B[38;5;129;01mnot\u001B[39;00m (\u001B[38;5;28mall\u001B[39m(l \u001B[38;5;129;01mis\u001B[39;00m \u001B[38;5;28;01mNone\u001B[39;00m \u001B[38;5;28;01mfor\u001B[39;00m l \u001B[38;5;129;01min\u001B[39;00m in_layouts) \u001B[38;5;129;01mand\u001B[39;00m\n\u001B[1;32m   1993\u001B[0m         \u001B[38;5;28mall\u001B[39m(l \u001B[38;5;129;01mis\u001B[39;00m \u001B[38;5;28;01mNone\u001B[39;00m \u001B[38;5;28;01mfor\u001B[39;00m l \u001B[38;5;129;01min\u001B[39;00m out_layouts)):\n\u001B[1;32m   1994\u001B[0m   \u001B[38;5;28;01mraise\u001B[39;00m \u001B[38;5;167;01mNotImplementedError\u001B[39;00m(\n\u001B[1;32m   1995\u001B[0m       \u001B[38;5;124m'\u001B[39m\u001B[38;5;124mConcrete layouts are not supported for vmap(jit).\u001B[39m\u001B[38;5;124m'\u001B[39m)\n\u001B[0;32m-> 1997\u001B[0m vals_out \u001B[38;5;241m=\u001B[39m \u001B[43mpjit_p\u001B[49m\u001B[38;5;241;43m.\u001B[39;49m\u001B[43mbind\u001B[49m\u001B[43m(\u001B[49m\n\u001B[1;32m   1998\u001B[0m \u001B[43m  \u001B[49m\u001B[38;5;241;43m*\u001B[39;49m\u001B[43mvals_in\u001B[49m\u001B[43m,\u001B[49m\n\u001B[1;32m   1999\u001B[0m \u001B[43m  \u001B[49m\u001B[43mjaxpr\u001B[49m\u001B[38;5;241;43m=\u001B[39;49m\u001B[43mnew_jaxpr\u001B[49m\u001B[43m,\u001B[49m\n\u001B[1;32m   2000\u001B[0m \u001B[43m  \u001B[49m\u001B[43min_shardings\u001B[49m\u001B[38;5;241;43m=\u001B[39;49m\u001B[43min_shardings\u001B[49m\u001B[43m,\u001B[49m\n\u001B[1;32m   2001\u001B[0m \u001B[43m  \u001B[49m\u001B[43mout_shardings\u001B[49m\u001B[38;5;241;43m=\u001B[39;49m\u001B[43mout_shardings\u001B[49m\u001B[43m,\u001B[49m\n\u001B[1;32m   2002\u001B[0m \u001B[43m  \u001B[49m\u001B[43min_layouts\u001B[49m\u001B[38;5;241;43m=\u001B[39;49m\u001B[43min_layouts\u001B[49m\u001B[43m,\u001B[49m\n\u001B[1;32m   2003\u001B[0m \u001B[43m  \u001B[49m\u001B[43mout_layouts\u001B[49m\u001B[38;5;241;43m=\u001B[39;49m\u001B[43mout_layouts\u001B[49m\u001B[43m,\u001B[49m\n\u001B[1;32m   2004\u001B[0m \u001B[43m  \u001B[49m\u001B[43mresource_env\u001B[49m\u001B[38;5;241;43m=\u001B[39;49m\u001B[43mresource_env\u001B[49m\u001B[43m,\u001B[49m\n\u001B[1;32m   2005\u001B[0m \u001B[43m  \u001B[49m\u001B[43mdonated_invars\u001B[49m\u001B[38;5;241;43m=\u001B[39;49m\u001B[43mdonated_invars\u001B[49m\u001B[43m,\u001B[49m\n\u001B[1;32m   2006\u001B[0m \u001B[43m  \u001B[49m\u001B[43mname\u001B[49m\u001B[38;5;241;43m=\u001B[39;49m\u001B[43mname\u001B[49m\u001B[43m,\u001B[49m\n\u001B[1;32m   2007\u001B[0m \u001B[43m  \u001B[49m\u001B[43mkeep_unused\u001B[49m\u001B[38;5;241;43m=\u001B[39;49m\u001B[43mkeep_unused\u001B[49m\u001B[43m,\u001B[49m\n\u001B[1;32m   2008\u001B[0m \u001B[43m  \u001B[49m\u001B[43minline\u001B[49m\u001B[38;5;241;43m=\u001B[39;49m\u001B[43minline\u001B[49m\u001B[43m,\u001B[49m\n\u001B[1;32m   2009\u001B[0m \u001B[43m  \u001B[49m\u001B[43mcompiler_options_kvs\u001B[49m\u001B[38;5;241;43m=\u001B[39;49m\u001B[43mcompiler_options_kvs\u001B[49m\u001B[43m)\u001B[49m\n\u001B[1;32m   2011\u001B[0m resolved_axes_out \u001B[38;5;241m=\u001B[39m batching\u001B[38;5;241m.\u001B[39mresolve_ragged_axes_against_inputs_outputs(\n\u001B[1;32m   2012\u001B[0m     vals_in, vals_out, axes_out)\n\u001B[1;32m   2013\u001B[0m \u001B[38;5;28;01mreturn\u001B[39;00m vals_out, resolved_axes_out\n",
      "File \u001B[0;32m/opt/miniconda3/envs/pix2pix/lib/python3.12/site-packages/jax/_src/core.py:463\u001B[0m, in \u001B[0;36mPrimitive.bind\u001B[0;34m(self, *args, **params)\u001B[0m\n\u001B[1;32m    461\u001B[0m trace_ctx\u001B[38;5;241m.\u001B[39mset_trace(eval_trace)\n\u001B[1;32m    462\u001B[0m \u001B[38;5;28;01mtry\u001B[39;00m:\n\u001B[0;32m--> 463\u001B[0m   \u001B[38;5;28;01mreturn\u001B[39;00m \u001B[38;5;28;43mself\u001B[39;49m\u001B[38;5;241;43m.\u001B[39;49m\u001B[43mbind_with_trace\u001B[49m\u001B[43m(\u001B[49m\u001B[43mprev_trace\u001B[49m\u001B[43m,\u001B[49m\u001B[43m \u001B[49m\u001B[43margs\u001B[49m\u001B[43m,\u001B[49m\u001B[43m \u001B[49m\u001B[43mparams\u001B[49m\u001B[43m)\u001B[49m\n\u001B[1;32m    464\u001B[0m \u001B[38;5;28;01mfinally\u001B[39;00m:\n\u001B[1;32m    465\u001B[0m   trace_ctx\u001B[38;5;241m.\u001B[39mset_trace(prev_trace)\n",
      "File \u001B[0;32m/opt/miniconda3/envs/pix2pix/lib/python3.12/site-packages/jax/_src/core.py:468\u001B[0m, in \u001B[0;36mPrimitive.bind_with_trace\u001B[0;34m(self, trace, args, params)\u001B[0m\n\u001B[1;32m    467\u001B[0m \u001B[38;5;28;01mdef\u001B[39;00m\u001B[38;5;250m \u001B[39m\u001B[38;5;21mbind_with_trace\u001B[39m(\u001B[38;5;28mself\u001B[39m, trace, args, params):\n\u001B[0;32m--> 468\u001B[0m   \u001B[38;5;28;01mreturn\u001B[39;00m \u001B[43mtrace\u001B[49m\u001B[38;5;241;43m.\u001B[39;49m\u001B[43mprocess_primitive\u001B[49m\u001B[43m(\u001B[49m\u001B[38;5;28;43mself\u001B[39;49m\u001B[43m,\u001B[49m\u001B[43m \u001B[49m\u001B[43margs\u001B[49m\u001B[43m,\u001B[49m\u001B[43m \u001B[49m\u001B[43mparams\u001B[49m\u001B[43m)\u001B[49m\n",
      "File \u001B[0;32m/opt/miniconda3/envs/pix2pix/lib/python3.12/site-packages/jax/_src/core.py:941\u001B[0m, in \u001B[0;36mEvalTrace.process_primitive\u001B[0;34m(self, primitive, args, params)\u001B[0m\n\u001B[1;32m    939\u001B[0m       \u001B[38;5;28;01mreturn\u001B[39;00m primitive\u001B[38;5;241m.\u001B[39mbind_with_trace(arg\u001B[38;5;241m.\u001B[39m_trace, args, params)\n\u001B[1;32m    940\u001B[0m check_eval_args(args)\n\u001B[0;32m--> 941\u001B[0m \u001B[38;5;28;01mreturn\u001B[39;00m \u001B[43mprimitive\u001B[49m\u001B[38;5;241;43m.\u001B[39;49m\u001B[43mimpl\u001B[49m\u001B[43m(\u001B[49m\u001B[38;5;241;43m*\u001B[39;49m\u001B[43margs\u001B[49m\u001B[43m,\u001B[49m\u001B[43m \u001B[49m\u001B[38;5;241;43m*\u001B[39;49m\u001B[38;5;241;43m*\u001B[39;49m\u001B[43mparams\u001B[49m\u001B[43m)\u001B[49m\n",
      "File \u001B[0;32m/opt/miniconda3/envs/pix2pix/lib/python3.12/site-packages/jax/_src/pjit.py:1765\u001B[0m, in \u001B[0;36m_pjit_call_impl\u001B[0;34m(jaxpr, in_shardings, out_shardings, in_layouts, out_layouts, resource_env, donated_invars, name, keep_unused, inline, compiler_options_kvs, *args)\u001B[0m\n\u001B[1;32m   1756\u001B[0m donated_argnums \u001B[38;5;241m=\u001B[39m \u001B[38;5;28mtuple\u001B[39m(i \u001B[38;5;28;01mfor\u001B[39;00m i, d \u001B[38;5;129;01min\u001B[39;00m \u001B[38;5;28menumerate\u001B[39m(donated_invars) \u001B[38;5;28;01mif\u001B[39;00m d)\n\u001B[1;32m   1757\u001B[0m cache_key \u001B[38;5;241m=\u001B[39m pxla\u001B[38;5;241m.\u001B[39mJitGlobalCppCacheKeys(\n\u001B[1;32m   1758\u001B[0m     donate_argnums\u001B[38;5;241m=\u001B[39mdonated_argnums, donate_argnames\u001B[38;5;241m=\u001B[39m\u001B[38;5;28;01mNone\u001B[39;00m,\n\u001B[1;32m   1759\u001B[0m     device\u001B[38;5;241m=\u001B[39m\u001B[38;5;28;01mNone\u001B[39;00m, backend\u001B[38;5;241m=\u001B[39m\u001B[38;5;28;01mNone\u001B[39;00m,\n\u001B[0;32m   (...)\u001B[0m\n\u001B[1;32m   1763\u001B[0m     out_layouts_treedef\u001B[38;5;241m=\u001B[39m\u001B[38;5;28;01mNone\u001B[39;00m, out_layouts_leaves\u001B[38;5;241m=\u001B[39mout_layouts,\n\u001B[1;32m   1764\u001B[0m     use_resource_env\u001B[38;5;241m=\u001B[39mresource_env \u001B[38;5;129;01mis\u001B[39;00m \u001B[38;5;129;01mnot\u001B[39;00m \u001B[38;5;28;01mNone\u001B[39;00m)\n\u001B[0;32m-> 1765\u001B[0m \u001B[38;5;28;01mreturn\u001B[39;00m \u001B[43mxc\u001B[49m\u001B[38;5;241;43m.\u001B[39;49m\u001B[43m_xla\u001B[49m\u001B[38;5;241;43m.\u001B[39;49m\u001B[43mpjit\u001B[49m\u001B[43m(\u001B[49m\n\u001B[1;32m   1766\u001B[0m \u001B[43m    \u001B[49m\u001B[43mname\u001B[49m\u001B[43m,\u001B[49m\u001B[43m \u001B[49m\u001B[43mf\u001B[49m\u001B[43m,\u001B[49m\u001B[43m \u001B[49m\u001B[43mcall_impl_cache_miss\u001B[49m\u001B[43m,\u001B[49m\u001B[43m \u001B[49m\u001B[43m[\u001B[49m\u001B[43m]\u001B[49m\u001B[43m,\u001B[49m\u001B[43m \u001B[49m\u001B[43m[\u001B[49m\u001B[43m]\u001B[49m\u001B[43m,\u001B[49m\u001B[43m \u001B[49m\u001B[43mcache_key\u001B[49m\u001B[43m,\u001B[49m\n\u001B[1;32m   1767\u001B[0m \u001B[43m    \u001B[49m\u001B[43mtree_util\u001B[49m\u001B[38;5;241;43m.\u001B[39;49m\u001B[43mdispatch_registry\u001B[49m\u001B[43m,\u001B[49m\u001B[43m \u001B[49m\u001B[43mpxla\u001B[49m\u001B[38;5;241;43m.\u001B[39;49m\u001B[43mcc_shard_arg\u001B[49m\u001B[43m,\u001B[49m\n\u001B[1;32m   1768\u001B[0m \u001B[43m    \u001B[49m\u001B[43m_get_cpp_global_cache\u001B[49m\u001B[43m(\u001B[49m\u001B[43mcache_key\u001B[49m\u001B[38;5;241;43m.\u001B[39;49m\u001B[43mcontains_explicit_attributes\u001B[49m\u001B[43m)\u001B[49m\u001B[43m)\u001B[49m\u001B[43m(\u001B[49m\u001B[38;5;241;43m*\u001B[39;49m\u001B[43margs\u001B[49m\u001B[43m)\u001B[49m\n",
      "\u001B[0;31mKeyboardInterrupt\u001B[0m: "
     ]
    }
   ],
   "execution_count": 72
  },
  {
   "metadata": {
    "ExecuteTime": {
     "end_time": "2025-01-15T16:11:51.091298Z",
     "start_time": "2025-01-15T16:11:51.016608Z"
    }
   },
   "cell_type": "code",
   "source": "plot_img(gen_images[0])",
   "id": "a13878ce43378182",
   "outputs": [
    {
     "data": {
      "text/plain": [
       "<Figure size 640x480 with 1 Axes>"
      ],
      "image/png": "[encoded data removed]"
     },
     "metadata": {},
     "output_type": "display_data"
    }
   ],
   "execution_count": 71
  },
  {
   "metadata": {},
   "cell_type": "code",
   "outputs": [],
   "execution_count": null,
   "source": "",
   "id": "8add81dd96530d56"
  }
 ],
 "metadata": {
  "kernelspec": {
   "display_name": "Python 3",
   "language": "python",
   "name": "python3"
  },
  "language_info": {
   "codemirror_mode": {
    "name": "ipython",
    "version": 2
   },
   "file_extension": ".py",
   "mimetype": "text/x-python",
   "name": "python",
   "nbconvert_exporter": "python",
   "pygments_lexer": "ipython2",
   "version": "2.7.6"
  }
 },
 "nbformat": 4,
 "nbformat_minor": 5
}
